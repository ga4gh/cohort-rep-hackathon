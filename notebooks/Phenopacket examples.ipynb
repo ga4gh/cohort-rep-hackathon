{
 "cells": [
  {
   "cell_type": "code",
   "execution_count": 10,
   "id": "1477bc6a",
   "metadata": {},
   "outputs": [],
   "source": [
    "from fasp.search import DataConnectClient\n",
    "\n",
    "ds_cl = DataConnectClient('https://ga4gh-search-adapter-presto-public.prod.dnastack.com/')\n",
    "\n",
    "# set some things up for data frame display\n",
    "import pandas as pd\n",
    "pd.set_option('display.max_colwidth', None) "
   ]
  },
  {
   "cell_type": "code",
   "execution_count": 11,
   "id": "7dd7fadf",
   "metadata": {},
   "outputs": [
    {
     "name": "stdout",
     "output_type": "stream",
     "text": [
      "_Retrieving the query_\n",
      "____Page1_______________\n",
      "____Page2_______________\n",
      "____Page3_______________\n",
      "____Page4_______________\n",
      "____Page5_______________\n"
     ]
    },
    {
     "data": {
      "text/html": [
       "<div>\n",
       "<style scoped>\n",
       "    .dataframe tbody tr th:only-of-type {\n",
       "        vertical-align: middle;\n",
       "    }\n",
       "\n",
       "    .dataframe tbody tr th {\n",
       "        vertical-align: top;\n",
       "    }\n",
       "\n",
       "    .dataframe thead th {\n",
       "        text-align: right;\n",
       "    }\n",
       "</style>\n",
       "<table border=\"1\" class=\"dataframe\">\n",
       "  <thead>\n",
       "    <tr style=\"text-align: right;\">\n",
       "      <th></th>\n",
       "      <th>id</th>\n",
       "      <th>phenopacket</th>\n",
       "    </tr>\n",
       "  </thead>\n",
       "  <tbody>\n",
       "    <tr>\n",
       "      <th>0</th>\n",
       "      <td>SAMN08666401</td>\n",
       "      <td>{'id': 'SAMN08666401', 'subject': {'id': 'SAMN08666401-individual', 'sex': 'MALE', 'taxonomy': {'id': 'NCBITaxon:9606', 'label': 'Homo sapiens'}}, 'biosamples': [{'id': 'SAMN08666401', 'individualId': 'SAMN08666401-individual', 'phenotypicFeatures': [{'type': {'id': 'UBERON:0000178', 'label': 'blood'}}], 'taxonomy': {'id': 'NCBITaxon:9606', 'label': 'Homo sapiens'}, 'ageOfIndividualAtCollection': {}}], 'metaData': {'created': '2020-09-10T18:52:16.485Z', 'createdBy': 'Biosamples phenopacket exporter', 'resources': [{'id': 'uberon', 'name': 'Uber-anatomy ontology', 'url': 'http://purl.obolibrary.org/obo/uberon.owl', 'version': '2020-06-30', 'namespacePrefix': 'UBERON'}, {'id': 'ncbitaxon', 'name': 'NCBI organismal classification', 'url': 'http://purl.obolibrary.org/obo/ncbitaxon.owl', 'version': '2020-04-18', 'namespacePrefix': 'NCBITAXON'}, {'id': 'pato', 'name': 'PATO - the Phenotype And Trait Ontology', 'url': 'http://purl.obolibrary.org/obo/pato.owl', 'version': '2020-08-02', 'namespacePrefix': 'PATO'}]}}</td>\n",
       "    </tr>\n",
       "    <tr>\n",
       "      <th>1</th>\n",
       "      <td>SAMN08664596</td>\n",
       "      <td>{'id': 'SAMN08664596', 'subject': {'id': 'SAMN08664596-individual', 'sex': 'MALE', 'taxonomy': {'id': 'NCBITaxon:9606', 'label': 'Homo sapiens'}}, 'biosamples': [{'id': 'SAMN08664596', 'individualId': 'SAMN08664596-individual', 'phenotypicFeatures': [{'type': {'id': 'UBERON:0000178', 'label': 'blood'}}], 'taxonomy': {'id': 'NCBITaxon:9606', 'label': 'Homo sapiens'}, 'ageOfIndividualAtCollection': {}}], 'metaData': {'created': '2020-09-10T18:49:02.221Z', 'createdBy': 'Biosamples phenopacket exporter', 'resources': [{'id': 'uberon', 'name': 'Uber-anatomy ontology', 'url': 'http://purl.obolibrary.org/obo/uberon.owl', 'version': '2020-06-30', 'namespacePrefix': 'UBERON'}, {'id': 'ncbitaxon', 'name': 'NCBI organismal classification', 'url': 'http://purl.obolibrary.org/obo/ncbitaxon.owl', 'version': '2020-04-18', 'namespacePrefix': 'NCBITAXON'}, {'id': 'pato', 'name': 'PATO - the Phenotype And Trait Ontology', 'url': 'http://purl.obolibrary.org/obo/pato.owl', 'version': '2020-08-02', 'namespacePrefix': 'PATO'}]}}</td>\n",
       "    </tr>\n",
       "    <tr>\n",
       "      <th>2</th>\n",
       "      <td>SAMN08666051</td>\n",
       "      <td>{'id': 'SAMN08666051', 'subject': {'id': 'SAMN08666051-individual', 'sex': 'MALE', 'taxonomy': {'id': 'NCBITaxon:9606', 'label': 'Homo sapiens'}}, 'biosamples': [{'id': 'SAMN08666051', 'individualId': 'SAMN08666051-individual', 'phenotypicFeatures': [{'type': {'id': 'UBERON:0000178', 'label': 'blood'}}], 'taxonomy': {'id': 'NCBITaxon:9606', 'label': 'Homo sapiens'}, 'ageOfIndividualAtCollection': {}}], 'metaData': {'created': '2020-09-10T18:41:02.790Z', 'createdBy': 'Biosamples phenopacket exporter', 'resources': [{'id': 'uberon', 'name': 'Uber-anatomy ontology', 'url': 'http://purl.obolibrary.org/obo/uberon.owl', 'version': '2020-06-30', 'namespacePrefix': 'UBERON'}, {'id': 'ncbitaxon', 'name': 'NCBI organismal classification', 'url': 'http://purl.obolibrary.org/obo/ncbitaxon.owl', 'version': '2020-04-18', 'namespacePrefix': 'NCBITAXON'}, {'id': 'pato', 'name': 'PATO - the Phenotype And Trait Ontology', 'url': 'http://purl.obolibrary.org/obo/pato.owl', 'version': '2020-08-02', 'namespacePrefix': 'PATO'}]}}</td>\n",
       "    </tr>\n",
       "  </tbody>\n",
       "</table>\n",
       "</div>"
      ],
      "text/plain": [
       "             id                                                                                                                                                                                                                                                                                                                                                                                                                                                                                                                                                                                                                                                                                                                                                                                                                                                                                                                                                                                                                                                     phenopacket\n",
       "0  SAMN08666401  {'id': 'SAMN08666401', 'subject': {'id': 'SAMN08666401-individual', 'sex': 'MALE', 'taxonomy': {'id': 'NCBITaxon:9606', 'label': 'Homo sapiens'}}, 'biosamples': [{'id': 'SAMN08666401', 'individualId': 'SAMN08666401-individual', 'phenotypicFeatures': [{'type': {'id': 'UBERON:0000178', 'label': 'blood'}}], 'taxonomy': {'id': 'NCBITaxon:9606', 'label': 'Homo sapiens'}, 'ageOfIndividualAtCollection': {}}], 'metaData': {'created': '2020-09-10T18:52:16.485Z', 'createdBy': 'Biosamples phenopacket exporter', 'resources': [{'id': 'uberon', 'name': 'Uber-anatomy ontology', 'url': 'http://purl.obolibrary.org/obo/uberon.owl', 'version': '2020-06-30', 'namespacePrefix': 'UBERON'}, {'id': 'ncbitaxon', 'name': 'NCBI organismal classification', 'url': 'http://purl.obolibrary.org/obo/ncbitaxon.owl', 'version': '2020-04-18', 'namespacePrefix': 'NCBITAXON'}, {'id': 'pato', 'name': 'PATO - the Phenotype And Trait Ontology', 'url': 'http://purl.obolibrary.org/obo/pato.owl', 'version': '2020-08-02', 'namespacePrefix': 'PATO'}]}}\n",
       "1  SAMN08664596  {'id': 'SAMN08664596', 'subject': {'id': 'SAMN08664596-individual', 'sex': 'MALE', 'taxonomy': {'id': 'NCBITaxon:9606', 'label': 'Homo sapiens'}}, 'biosamples': [{'id': 'SAMN08664596', 'individualId': 'SAMN08664596-individual', 'phenotypicFeatures': [{'type': {'id': 'UBERON:0000178', 'label': 'blood'}}], 'taxonomy': {'id': 'NCBITaxon:9606', 'label': 'Homo sapiens'}, 'ageOfIndividualAtCollection': {}}], 'metaData': {'created': '2020-09-10T18:49:02.221Z', 'createdBy': 'Biosamples phenopacket exporter', 'resources': [{'id': 'uberon', 'name': 'Uber-anatomy ontology', 'url': 'http://purl.obolibrary.org/obo/uberon.owl', 'version': '2020-06-30', 'namespacePrefix': 'UBERON'}, {'id': 'ncbitaxon', 'name': 'NCBI organismal classification', 'url': 'http://purl.obolibrary.org/obo/ncbitaxon.owl', 'version': '2020-04-18', 'namespacePrefix': 'NCBITAXON'}, {'id': 'pato', 'name': 'PATO - the Phenotype And Trait Ontology', 'url': 'http://purl.obolibrary.org/obo/pato.owl', 'version': '2020-08-02', 'namespacePrefix': 'PATO'}]}}\n",
       "2  SAMN08666051  {'id': 'SAMN08666051', 'subject': {'id': 'SAMN08666051-individual', 'sex': 'MALE', 'taxonomy': {'id': 'NCBITaxon:9606', 'label': 'Homo sapiens'}}, 'biosamples': [{'id': 'SAMN08666051', 'individualId': 'SAMN08666051-individual', 'phenotypicFeatures': [{'type': {'id': 'UBERON:0000178', 'label': 'blood'}}], 'taxonomy': {'id': 'NCBITaxon:9606', 'label': 'Homo sapiens'}, 'ageOfIndividualAtCollection': {}}], 'metaData': {'created': '2020-09-10T18:41:02.790Z', 'createdBy': 'Biosamples phenopacket exporter', 'resources': [{'id': 'uberon', 'name': 'Uber-anatomy ontology', 'url': 'http://purl.obolibrary.org/obo/uberon.owl', 'version': '2020-06-30', 'namespacePrefix': 'UBERON'}, {'id': 'ncbitaxon', 'name': 'NCBI organismal classification', 'url': 'http://purl.obolibrary.org/obo/ncbitaxon.owl', 'version': '2020-04-18', 'namespacePrefix': 'NCBITAXON'}, {'id': 'pato', 'name': 'PATO - the Phenotype And Trait Ontology', 'url': 'http://purl.obolibrary.org/obo/pato.owl', 'version': '2020-08-02', 'namespacePrefix': 'PATO'}]}}"
      ]
     },
     "execution_count": 11,
     "metadata": {},
     "output_type": "execute_result"
    }
   ],
   "source": [
    "ppack_query = \"\"\"SELECT *\n",
    "FROM sample_phenopackets.ga4gh_tables.gecco_phenopackets pp \n",
    "where  json_extract_scalar(pp.phenopacket, '$.subject.sex') = 'MALE' limit 3 \"\"\"\n",
    "\n",
    "# Step 1 - Discovery\n",
    "# query for relevant DRS objects\n",
    "\n",
    "\n",
    "res = ds_cl.runQuery(ppack_query, returnType='dataframe')\n",
    "res"
   ]
  },
  {
   "cell_type": "code",
   "execution_count": 13,
   "id": "f0a200b7",
   "metadata": {},
   "outputs": [
    {
     "name": "stdout",
     "output_type": "stream",
     "text": [
      "{\n",
      "   \"id\": \"SAMN08666401\",\n",
      "   \"subject\": {\n",
      "      \"id\": \"SAMN08666401-individual\",\n",
      "      \"sex\": \"MALE\",\n",
      "      \"taxonomy\": {\n",
      "         \"id\": \"NCBITaxon:9606\",\n",
      "         \"label\": \"Homo sapiens\"\n",
      "      }\n",
      "   },\n",
      "   \"biosamples\": [\n",
      "      {\n",
      "         \"id\": \"SAMN08666401\",\n",
      "         \"individualId\": \"SAMN08666401-individual\",\n",
      "         \"phenotypicFeatures\": [\n",
      "            {\n",
      "               \"type\": {\n",
      "                  \"id\": \"UBERON:0000178\",\n",
      "                  \"label\": \"blood\"\n",
      "               }\n",
      "            }\n",
      "         ],\n",
      "         \"taxonomy\": {\n",
      "            \"id\": \"NCBITaxon:9606\",\n",
      "            \"label\": \"Homo sapiens\"\n",
      "         },\n",
      "         \"ageOfIndividualAtCollection\": {}\n",
      "      }\n",
      "   ],\n",
      "   \"metaData\": {\n",
      "      \"created\": \"2020-09-10T18:52:16.485Z\",\n",
      "      \"createdBy\": \"Biosamples phenopacket exporter\",\n",
      "      \"resources\": [\n",
      "         {\n",
      "            \"id\": \"uberon\",\n",
      "            \"name\": \"Uber-anatomy ontology\",\n",
      "            \"url\": \"http://purl.obolibrary.org/obo/uberon.owl\",\n",
      "            \"version\": \"2020-06-30\",\n",
      "            \"namespacePrefix\": \"UBERON\"\n",
      "         },\n",
      "         {\n",
      "            \"id\": \"ncbitaxon\",\n",
      "            \"name\": \"NCBI organismal classification\",\n",
      "            \"url\": \"http://purl.obolibrary.org/obo/ncbitaxon.owl\",\n",
      "            \"version\": \"2020-04-18\",\n",
      "            \"namespacePrefix\": \"NCBITAXON\"\n",
      "         },\n",
      "         {\n",
      "            \"id\": \"pato\",\n",
      "            \"name\": \"PATO - the Phenotype And Trait Ontology\",\n",
      "            \"url\": \"http://purl.obolibrary.org/obo/pato.owl\",\n",
      "            \"version\": \"2020-08-02\",\n",
      "            \"namespacePrefix\": \"PATO\"\n",
      "         }\n",
      "      ]\n",
      "   }\n",
      "}\n"
     ]
    }
   ],
   "source": [
    "import json\n",
    "eg_packet = res.iat[0,1]\n",
    "print(json.dumps(eg_packet, indent=3))"
   ]
  },
  {
   "cell_type": "markdown",
   "id": "6d1a536b",
   "metadata": {},
   "source": [
    "### With DRS"
   ]
  },
  {
   "cell_type": "code",
   "execution_count": 5,
   "id": "573f3de2",
   "metadata": {},
   "outputs": [
    {
     "data": {
      "text/html": [
       "<div>\n",
       "<style scoped>\n",
       "    .dataframe tbody tr th:only-of-type {\n",
       "        vertical-align: middle;\n",
       "    }\n",
       "\n",
       "    .dataframe tbody tr th {\n",
       "        vertical-align: top;\n",
       "    }\n",
       "\n",
       "    .dataframe thead th {\n",
       "        text-align: right;\n",
       "    }\n",
       "</style>\n",
       "<table border=\"1\" class=\"dataframe\">\n",
       "  <thead>\n",
       "    <tr style=\"text-align: right;\">\n",
       "      <th></th>\n",
       "      <th>dbGaP_Subject_ID</th>\n",
       "      <th>_col1</th>\n",
       "    </tr>\n",
       "  </thead>\n",
       "  <tbody>\n",
       "    <tr>\n",
       "      <th>0</th>\n",
       "      <td>2474312</td>\n",
       "      <td>sbcgc:5baa8cece4b0db63859e6590</td>\n",
       "    </tr>\n",
       "    <tr>\n",
       "      <th>1</th>\n",
       "      <td>2473610</td>\n",
       "      <td>sbcgc:5baa8d0be4b0db63859e6843</td>\n",
       "    </tr>\n",
       "    <tr>\n",
       "      <th>2</th>\n",
       "      <td>2472925</td>\n",
       "      <td>sbcgc:5baa88eee4b0abc1388b6626</td>\n",
       "    </tr>\n",
       "  </tbody>\n",
       "</table>\n",
       "</div>"
      ],
      "text/plain": [
       "  dbGaP_Subject_ID                           _col1\n",
       "0          2474312  sbcgc:5baa8cece4b0db63859e6590\n",
       "1          2473610  sbcgc:5baa8d0be4b0db63859e6843\n",
       "2          2472925  sbcgc:5baa88eee4b0abc1388b6626"
      ]
     },
     "execution_count": 5,
     "metadata": {},
     "output_type": "execute_result"
    }
   ],
   "source": [
    "pp_dbgap_join = \"\"\"SELECT sp.dbGaP_Subject_ID, 'sbcgc:'||sb_drs_id \n",
    "FROM dbgap_demo.scr_gecco_susceptibility.subject_phenotypes_multi sp \n",
    "join dbgap_demo.scr_gecco_susceptibility.sample_multi sm on sm.dbgap_subject_id = sp.dbgap_subject_id \n",
    "join dbgap_demo.scr_gecco_susceptibility.sb_drs_index di on di.sample_id = sm.sample_id \n",
    "join sample_phenopackets.ga4gh_tables.gecco_phenopackets pp on pp.id = sm.biosample_accession \n",
    "where  json_extract_scalar(pp.phenopacket, '$.subject.sex') = 'MALE' and file_type = 'cram' limit 3 \"\"\"\n",
    "\n",
    "# Step 1 - Discovery\n",
    "# query for relevant DRS objects\n",
    "\n",
    "\n",
    "res = ds_cl.runQuery(pp_dbgap_join, returnType='dataframe')res"
   ]
  },
  {
   "cell_type": "code",
   "execution_count": null,
   "id": "b99e3ec7",
   "metadata": {},
   "outputs": [],
   "source": []
  }
 ],
 "metadata": {
  "kernelspec": {
   "display_name": "Python 3 (ipykernel)",
   "language": "python",
   "name": "python3"
  },
  "language_info": {
   "codemirror_mode": {
    "name": "ipython",
    "version": 3
   },
   "file_extension": ".py",
   "mimetype": "text/x-python",
   "name": "python",
   "nbconvert_exporter": "python",
   "pygments_lexer": "ipython3",
   "version": "3.9.7"
  }
 },
 "nbformat": 4,
 "nbformat_minor": 5
}
